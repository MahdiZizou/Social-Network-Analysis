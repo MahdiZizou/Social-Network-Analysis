{
 "cells": [
  {
   "cell_type": "markdown",
   "metadata": {},
   "source": [
    "# Social Network Analysis Project: Covid-19 diffusion network in Gibraltar\n",
    "## Members:\n",
    "- Joonas Mäenpää (Joonas.Maenpaa@student.oulu.fi) \n",
    "\n",
    "- Joakim Junnila (jjunnila18@student.oulu.fi) \n",
    "\n",
    "- Mahdi Akbari (mahdi.akbari@oulu.fi) "
   ]
  },
  {
   "cell_type": "markdown",
   "metadata": {},
   "source": [
    "## Task 1:\n",
    "Use a starting date where you consider it to stand for initial state. In the statistics of the country at the chosen, calculate the initial infection as the total number of infection minus the total recovery. Use the official corona statistical source to draw a plot showing the temporal variations of the number of infections and that of the number of recovery. "
   ]
  },
  {
   "cell_type": "code",
   "execution_count": null,
   "metadata": {},
   "outputs": [],
   "source": [
    "import pandas as pd\n",
    "from matplotlib import pyplot as plt\n",
    "%matplotlib inline\n",
    "\n",
    "gib = pd.read_csv('Gibraltar_covid19.csv')\n",
    "\n",
    "#display(gib)\n",
    "\n",
    "plt.plot(gib['active_cases'])\n",
    "plt.grid()\n",
    "plt.title('Historical data')\n",
    "plt.ylabel('Number of cases')\n",
    "\n",
    "plt.plot(gib['cumulative_cases'])\n",
    "plt.plot(gib['cumulative_removed'])\n",
    "\n",
    "plt.legend([\"Active Cases\", \"Cumulative Infected\", \"Cumulative Removed\"])\n",
    "\n",
    "plt.savefig('T1_active_cases.jpeg', dpi = 300)"
   ]
  },
  {
   "cell_type": "markdown",
   "metadata": {},
   "source": [
    "## Task 2:\n",
    "We want to carry on the simulation using the SIR epidemic model. Use the implementation provided in NDLIB library to perform the calculus. Set the number of nodes of the network equal to the total population and a very small probability for Erdos random graph of 0.001. Choose a infection probability beta and recovery probability gamma of your choice (you may inspire from the data trend). Run the NDLIB and plot the temporal variation of the Number of infection and recovery over time."
   ]
  },
  {
   "cell_type": "code",
   "execution_count": null,
   "metadata": {},
   "outputs": [],
   "source": [
    "population = 33706\n",
    "\n",
    "g = nx.erdos_renyi_graph(n = population, p = 0.001, seed=10) "
   ]
  },
  {
   "cell_type": "code",
   "execution_count": null,
   "metadata": {},
   "outputs": [],
   "source": [
    "import ndlib.models.ModelConfig as mc\n",
    "import ndlib.models.epidemics as ep\n",
    "from ndlib.viz.mpl.DiffusionTrend import DiffusionTrend\n",
    "import numpy as np\n",
    "import pandas as pd\n",
    "import networkx as nx"
   ]
  },
  {
   "cell_type": "code",
   "execution_count": null,
   "metadata": {},
   "outputs": [],
   "source": [
    "def sir_infected(beta_input, gamma_input, g):\n",
    "          \n",
    "    model = ep.SIRModel(g, seed=10)\n",
    "\n",
    "    cfg = mc.Configuration()\n",
    "\n",
    "    cfg.add_model_parameter('beta', beta_input)\n",
    "    cfg.add_model_parameter('gamma', gamma_input)\n",
    "    cfg.add_model_parameter('percentage_infected', 0)\n",
    "\n",
    "    model.set_initial_status(cfg)\n",
    "\n",
    "    iteration = model.iteration_bunch(200)\n",
    "\n",
    "    trend = model.build_trends(iteration)\n",
    "\n",
    "    viz = DiffusionTrend(model, trend)\n",
    "    \n",
    "    infected_model = viz.trends[0]['trends']['node_count'][1]\n",
    "    \n",
    "    removed_model = viz.trends[0]['trends']['node_count'][2]\n",
    "    \n",
    "    sus_mod = viz.trends[0]['trends']['node_count'][0]\n",
    "    \n",
    "    return {'infected_model' : pd.DataFrame(infected_model).astype('float')/population,\n",
    "            'removed_model' : pd.DataFrame(removed_model).astype('float')/population,\n",
    "            'sus_mod' : pd.DataFrame(sus_mod).astype('float')/population}"
   ]
  },
  {
   "cell_type": "code",
   "execution_count": null,
   "metadata": {},
   "outputs": [],
   "source": [
    "beta = 0.02\n",
    "\n",
    "gamma = 0.05\n",
    "\n",
    "model_us = sir_infected(beta, gamma, g)\n",
    "\n",
    "infected_model = model_us['infected_model']\n",
    "\n",
    "removed_model = model_us['removed_model']\n",
    "\n",
    "sus_mod = model_us['sus_mod']\n",
    "\n",
    "plt.plot(infected_model)\n",
    "plt.grid()\n",
    "plt.title('\\u03B2 =' + str(beta) + 'and \\u03B3 = ' + str(gamma))\n",
    "plt.ylabel('Number of cases')\n",
    "\n",
    "plt.plot(removed_model)\n",
    "plt.plot(sus_mod)\n",
    "\n",
    "plt.legend([\"Infected Model\", \"Removed Model\", \"Susceptible Model\"])\n",
    "\n",
    "plt.savefig('T2_us_modeled.jpeg', dpi = 300)"
   ]
  },
  {
   "cell_type": "markdown",
   "metadata": {},
   "source": [
    "## Task 3:\n",
    "Now we want to use the data of official statistics to tune the probability of infection and recovery to find a way to match the variations plotted in 2) with that of 1). Suggest an empirical approach where, for instance, you vary incrementally the values of betta and gamma until you visualize a figure infections and recovery count closely match that of official statistics. "
   ]
  },
  {
   "cell_type": "code",
   "execution_count": null,
   "metadata": {},
   "outputs": [],
   "source": [
    "import seaborn as sns\n",
    "\n",
    "betta = np.arange(0.01, 0.02, 0.001)\n",
    "gama = np.arange(0.0, 0.5, 0.05)\n",
    "\n",
    "dif_sqr = np.zeros((10,10))\n",
    "\n",
    "for i in range(10): \n",
    "    \n",
    "    for j in range(10): \n",
    "        \n",
    "        model_us = sir_infected(betta[i], gama[j], g)\n",
    "\n",
    "        infected_model = model_us['infected_model']\n",
    "\n",
    "        removed_model = model_us['removed_model']\n",
    "\n",
    "        dif_sqr[i, j] = abs(max(np.array(infected_model).ravel())*population - max(gib['active_cases'][0:200]))"
   ]
  },
  {
   "cell_type": "code",
   "execution_count": null,
   "metadata": {},
   "outputs": [],
   "source": [
    "df = pd.read_csv('dif_sqr_cat.csv', index_col = 0)\n",
    "\n",
    "df\n",
    "\n",
    "ax = sns.heatmap(df, annot=True, linewidths= 0.5, cbar=False)\n",
    "\n",
    "plt.xlabel('\\u03B3')\n",
    "plt.ylabel('\\u03B2 * 100')\n",
    "\n",
    "plt.savefig('T3_heatmat_maxdif.jpeg', dpi = 300, figsize=(30, 10))"
   ]
  },
  {
   "cell_type": "code",
   "execution_count": null,
   "metadata": {},
   "outputs": [],
   "source": [
    "betta_ave = 0.015\n",
    "\n",
    "gamma_ave = 0.1\n",
    "\n",
    "model_us = sir_infected(betta_ave, gamma_ave, g)\n",
    "\n",
    "infected_model = model_us['infected_model']\n",
    "\n",
    "removed_model = model_us['removed_model']\n",
    "\n",
    "plt.plot(infected_model*population)\n",
    "plt.grid()\n",
    "plt.ylabel('Number of cases')\n",
    "plt.title('\\u03B2 =' + str(betta_ave) + 'and \\u03B3 = ' + str(gamma_ave))\n",
    "\n",
    "plt.plot(gib['active_cases'], )\n",
    "plt.legend([\"Modeled Infection\", \"Observed Infection\"])\n",
    "\n",
    "plt.savefig('T3_2_AveBG.jpeg', dpi = 300)"
   ]
  },
  {
   "cell_type": "markdown",
   "metadata": {},
   "source": [
    "## Task 4:\n",
    "Now we want to use the official dataset statistics to estimate the probability of infection and recovery. Suggest a simple approach to calculate these attributes using the available historical dataset. Then input these values to the SIR model and run the simulation to display the variation of the infections and recovery. Discuss the relevance of the SIR model for this purpose. "
   ]
  },
  {
   "cell_type": "code",
   "execution_count": null,
   "metadata": {},
   "outputs": [],
   "source": [
    "gamma_ave = 0.1\n",
    "\n",
    "betta_ave = 0.0741\n",
    "\n",
    "model_us = sir_infected(betta_ave, gamma_ave, g)\n",
    "\n",
    "infected_model = model_us['infected_model']\n",
    "\n",
    "removed_model = model_us['removed_model']\n",
    "\n",
    "plt.plot(infected_model*population)\n",
    "plt.grid()\n",
    "plt.ylabel('Number of cases')\n",
    "plt.title('\\u03B2 = ' + str(betta_ave) + ' and \\u03B3 = ' + str(gamma_ave))\n",
    "\n",
    "plt.plot(gib['active_cases'])\n",
    "plt.legend([\"Modeled Infection\", \"Observed Infection\"])\n",
    "\n",
    "plt.savefig('T4_AveBG.jpeg', dpi = 300)"
   ]
  },
  {
   "cell_type": "markdown",
   "metadata": {},
   "source": [
    "## Task 5:\n",
    "Now we want to treat the death count provided in the statistics. Consider using the SI model for this purpose. Similarly to 1), draw the timely evolution of the number of death. "
   ]
  },
  {
   "cell_type": "code",
   "execution_count": null,
   "metadata": {},
   "outputs": [],
   "source": [
    "plt.plot(gib['cumulative_deaths'][0:200] + gib['cumulative_cases'][0:200])\n",
    "plt.grid()\n",
    "plt.title('Historical data')\n",
    "plt.ylabel('Cumulative removed cases')\n",
    "\n",
    "plt.savefig('T5_death_cases.jpeg', dpi = 300)"
   ]
  },
  {
   "cell_type": "markdown",
   "metadata": {},
   "source": [
    "## Task 6:\n",
    "Next use the implementation provided in NDLIB for the SI model and suggest a simple model to generate the simulated model that displays the total number of infected (here we assume any one who is infected or died is in I (i.e. infected) set).  "
   ]
  },
  {
   "cell_type": "code",
   "execution_count": null,
   "metadata": {},
   "outputs": [],
   "source": [
    "def si_infected(beta_input, g):\n",
    "          \n",
    "    model = ep.SIModel(g, seed=10)\n",
    "\n",
    "    cfg = mc.Configuration()\n",
    "\n",
    "    cfg.add_model_parameter('beta', beta_input)\n",
    "    cfg.add_model_parameter('percentage_infected', 0)\n",
    "\n",
    "    model.set_initial_status(cfg)\n",
    "\n",
    "    iteration = model.iteration_bunch(200)\n",
    "\n",
    "    trend = model.build_trends(iteration)\n",
    "\n",
    "    viz = DiffusionTrend(model, trend)\n",
    "    \n",
    "    infected_model = viz.trends[0]['trends']['node_count'][1]\n",
    "       \n",
    "    sus_mod = viz.trends[0]['trends']['node_count'][0]\n",
    "    \n",
    "    return {'infected_model' : pd.DataFrame(infected_model).astype('float')/population,\n",
    "            'sus_mod' : pd.DataFrame(sus_mod).astype('float')/population}"
   ]
  },
  {
   "cell_type": "code",
   "execution_count": null,
   "metadata": {},
   "outputs": [],
   "source": [
    "betta_input = 0.007\n",
    "\n",
    "model_us = si_infected(betta_input, g)\n",
    "\n",
    "infected_model = model_us['infected_model']\n",
    "\n",
    "sus_model = model_us['sus_mod']\n",
    "\n",
    "plt.plot(infected_model)\n",
    "plt.grid()\n",
    "plt.ylabel('Number of cases')\n",
    "plt.title('\\u03B2 = ' + str(betta_input))\n",
    "\n",
    "plt.plot(sus_model)\n",
    "\n",
    "plt.legend(['Infected Model', 'Susceptible Model'])\n",
    "\n",
    "\n",
    "plt.savefig('T6_us_SImodeled.jpeg', dpi = 300)"
   ]
  },
  {
   "cell_type": "markdown",
   "metadata": {},
   "source": [
    "## Task 7:\n",
    "Suggest an empirical and incremental variation of the infection probability in SI model until the death variation is close to the real dataset. Discuss the relevance of such approach and probability value."
   ]
  },
  {
   "cell_type": "code",
   "execution_count": null,
   "metadata": {},
   "outputs": [],
   "source": [
    "bettas = np.arange(0.004, 0.009, 0.001) \n",
    "\n",
    "dif = []\n",
    "\n",
    "for betta_input in bettas:\n",
    "    \n",
    "    model_us = si_infected(betta_input, g)\n",
    "\n",
    "    model = model_us['infected_model']*population \n",
    "\n",
    "    obs = gib['cumulative_deaths'][0:200] + gib['cumulative_cases'][0:200]\n",
    "\n",
    "    a = sum(((np.array(model) - np.array(obs))**2).ravel())/10**12 \n",
    "\n",
    "    dif.append(a)"
   ]
  },
  {
   "cell_type": "code",
   "execution_count": null,
   "metadata": {},
   "outputs": [],
   "source": [
    "plt.plot(bettas*100, dif)\n",
    "plt.grid()\n",
    "plt.ylabel('Square difference')\n",
    "plt.xlabel('\\u03B2 * 100')\n",
    "\n",
    "plt.savefig('T7_1_sqDif.jpeg', dpi = 300)"
   ]
  },
  {
   "cell_type": "code",
   "execution_count": null,
   "metadata": {},
   "outputs": [],
   "source": [
    "betta_input = 0.0055\n",
    "\n",
    "model_us = si_infected(betta_input, g)\n",
    "\n",
    "infected_model = model_us['infected_model']\n",
    "\n",
    "plt.plot(infected_model*population)\n",
    "plt.grid()\n",
    "plt.ylabel('Number of cases')\n",
    "plt.title('\\u03B2 = ' + str(betta_input))\n",
    "\n",
    "plt.plot(gib['cumulative_deaths'] + gib['cumulative_cases'])\n",
    "plt.legend([\"Modeled Infection\", \"Observed Infection\"])\n",
    "\n",
    "plt.savefig('T7_2_SI.jpeg', dpi = 300)"
   ]
  },
  {
   "cell_type": "markdown",
   "metadata": {},
   "source": [
    "## Task 8:\n",
    "Consider the SEIRS (Susceptible-Exposed-Infected-Recovered-Susceptible) model described in link below. Set an initial value of parameters of the model and display the temporal evolution of the infection and recovery counts:\n",
    "- https://github.com/ryansmcgee/seirsplus. \n",
    "\n",
    "Read below to understand parameters of SEIRSNetworkModel:\n",
    "- https://github.com/ryansmcgee/seirsplus/wiki/SEIRSNetworkModel-class"
   ]
  },
  {
   "cell_type": "code",
   "execution_count": null,
   "metadata": {},
   "outputs": [],
   "source": [
    "from seirsplus.models import *\n",
    "from seirsplus.networks import *\n",
    "from seirsplus.sim_loops import *\n",
    "from seirsplus.utilities import *\n",
    "\n",
    "baseGraph = g\n",
    "\n",
    "G_normal = custom_exponential_graph(baseGraph, scale=100)\n",
    "\n",
    "# Social distancing interactions:\n",
    "G_distancing = custom_exponential_graph(baseGraph, scale=10)\n",
    "\n",
    "# Quarantine interactions:\n",
    "G_quarantine = custom_exponential_graph(baseGraph, scale=5)\n",
    "\n",
    "model = SEIRSNetworkModel(G=G_normal, beta=0.155, sigma=1/5.2, gamma=1/12.39, mu_I=0.0004, p=0.5,\n",
    "                          G_Q=G_quarantine, beta_Q=0.155, sigma_Q=1/5.2, gamma_Q=1/12.39, mu_0=0.0004,\n",
    "                          theta_E=0.02, theta_I=0.02, phi_E=0.2, phi_I=0.2, psi_E=1.0, psi_I=1.0, q=0.5,\n",
    "                          initI=10)\n",
    "\n",
    "model.run(T=200)\n",
    "\n",
    "model.figure_infections(plot_S = False,\n",
    "                        plot_E = 'line',\n",
    "                        plot_I = 'line',\n",
    "                        plot_R = 'line',\n",
    "                        figsize = (15, 10))"
   ]
  },
  {
   "cell_type": "markdown",
   "metadata": {},
   "source": [
    "## Task 9:\n",
    "Similarly to 3), suggest an empirical and possible an incremental approach to attempt to match the infection and recovery counts with that of real dataset."
   ]
  },
  {
   "cell_type": "code",
   "execution_count": null,
   "metadata": {},
   "outputs": [],
   "source": [
    "beta = 0.125\n",
    "\n",
    "baseGraph = g\n",
    "\n",
    "G_normal = custom_exponential_graph(baseGraph, scale=100)\n",
    "\n",
    "# Social distancing interactions:\n",
    "G_distancing = custom_exponential_graph(baseGraph, scale=10)\n",
    "\n",
    "# Quarantine interactions:\n",
    "G_quarantine = custom_exponential_graph(baseGraph, scale=5)\n",
    "\n",
    "model = SEIRSNetworkModel(G=G_normal, beta=beta, sigma=1/5.2, gamma=1/12.39, mu_I=0.0004, p=0.5,\n",
    "                          G_Q=G_quarantine, beta_Q=0.155, sigma_Q=1/5.2, gamma_Q=1/12.39, mu_0=0.0004,\n",
    "                          theta_E=0.02, theta_I=0.02, phi_E=0.2, phi_I=0.2, psi_E=1.0, psi_I=1.0, q=0.5,\n",
    "                          initI=10)\n",
    "\n",
    "model.run(T=200)\n",
    "\n",
    "S = model.numS\n",
    "E = model.numE\n",
    "I = model.numI\n",
    "\n",
    "t = model.tseries\n",
    "\n",
    "plt.plot(t, I)\n",
    "plt.grid()\n",
    "plt.ylabel('Number of cases')\n",
    "\n",
    "plt.plot(gib['active_cases'])\n",
    "plt.legend([\"SEIR Infection\", \"Observed Infection\"])\n",
    "plt.title('\\u03B2 = ' + str(beta))\n",
    "\n",
    "plt.savefig('T9_b'+ str(beta) +'.jpeg', dpi = 300)"
   ]
  },
  {
   "cell_type": "markdown",
   "metadata": {},
   "source": [
    "## Task 10:\n",
    "Similarly to 4), use the official statistics to infer the infection, recovery probabilities and other parameters of the model. Then run the model again and display the new graph showing the variations of the infections and recovery counts."
   ]
  },
  {
   "cell_type": "code",
   "execution_count": null,
   "metadata": {},
   "outputs": [],
   "source": [
    "baseGraph = g\n",
    "\n",
    "G_normal = custom_exponential_graph(baseGraph, scale=100)\n",
    "\n",
    "# Social distancing interactions:\n",
    "G_distancing = custom_exponential_graph(baseGraph, scale=10)\n",
    "\n",
    "# Quarantine interactions:\n",
    "G_quarantine = custom_exponential_graph(baseGraph, scale=5)\n",
    "\n",
    "model = SEIRSNetworkModel(G=G_normal, beta=0.155, sigma=1/5.2, gamma=1/12.39, mu_I=0.0004, p=0.5,\n",
    "                          G_Q=G_quarantine, beta_Q=0.155, sigma_Q=1/5.2, gamma_Q=1/12.39, mu_0=0.0004,\n",
    "                          theta_E=0.02, theta_I=0.02, phi_E=0.2, phi_I=0.2, psi_E=1.0, psi_I=1.0, q=0.5,\n",
    "                          initI=10)\n",
    "\n",
    "model.run(T=200)\n",
    "\n",
    "model.figure_infections(plot_S = False,\n",
    "                        plot_E = 'line',\n",
    "                        plot_I = 'line',\n",
    "                        plot_R = 'line',\n",
    "                        figsize = (15, 10))"
   ]
  }
 ],
 "metadata": {
  "kernelspec": {
   "display_name": "Python [conda env:root] *",
   "language": "python",
   "name": "conda-root-py"
  },
  "language_info": {
   "codemirror_mode": {
    "name": "ipython",
    "version": 3
   },
   "file_extension": ".py",
   "mimetype": "text/x-python",
   "name": "python",
   "nbconvert_exporter": "python",
   "pygments_lexer": "ipython3",
   "version": "3.8.5"
  }
 },
 "nbformat": 4,
 "nbformat_minor": 4
}
